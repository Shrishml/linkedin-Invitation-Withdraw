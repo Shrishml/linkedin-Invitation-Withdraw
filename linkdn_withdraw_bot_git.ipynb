{
 "cells": [
  {
   "cell_type": "code",
   "execution_count": 55,
   "metadata": {},
   "outputs": [],
   "source": [
    "from selenium import webdriver\n",
    "from selenium.webdriver.common.keys import Keys\n",
    "\n",
    "from selenium.webdriver.common.by import By\n",
    "from selenium.webdriver.support import expected_conditions as EC\n",
    "from selenium.webdriver.support.ui import WebDriverWait\n",
    "from selenium.webdriver.support.wait import WebDriverWait\n",
    "import time\n",
    "import numpy as np\n",
    "from selenium import webdriver\n",
    "from selenium.webdriver.common.action_chains import ActionChains\n",
    "from selenium.webdriver.common.keys import Keys\n",
    "\n",
    "\n",
    "\n"
   ]
  },
  {
   "cell_type": "code",
   "execution_count": 57,
   "metadata": {},
   "outputs": [],
   "source": [
    "hand=['your_3mail','password']"
   ]
  },
  {
   "cell_type": "code",
   "execution_count": 62,
   "metadata": {},
   "outputs": [],
   "source": [
    "driver = webdriver.Chrome(executable_path=\"./chromedriver\")\n",
    "driver.get('https://www.linkedin.com/login')\n",
    "driver.implicitly_wait(5)\n",
    "driver.find_element_by_name('session_key').send_keys(hand[0]+Keys.RETURN)\n",
    "driver.find_element_by_name('session_password').send_keys(hand[1] + Keys.RETURN)\n",
    "driver.implicitly_wait(10)\n",
    "\n",
    "driver.get('https://www.linkedin.com/mynetwork/invitation-manager/sent/')\n",
    "driver.implicitly_wait(8)\n",
    "\n",
    "\n",
    "n_withdraw=15\n",
    "\n",
    "for i in range(n_withdraw):\n",
    "    withdraw = driver.find_element_by_class_name(\"invitation-card__action-btn\")\n",
    "    withdraw.click()\n",
    "    time.sleep(3)\n",
    "    withdraw=driver.find_elements_by_class_name('artdeco-modal__confirm-dialog-btn')\n",
    "    withdraw[1].click()\n",
    "    time.sleep(5)\n",
    "    \n",
    "#artdeco-modal__confirm-dialog-btn.artdeco-button artdeco-button--2.artdeco-button--primary"
   ]
  },
  {
   "cell_type": "code",
   "execution_count": null,
   "metadata": {},
   "outputs": [],
   "source": []
  },
  {
   "cell_type": "code",
   "execution_count": null,
   "metadata": {},
   "outputs": [],
   "source": []
  }
 ],
 "metadata": {
  "kernelspec": {
   "display_name": "Python 3",
   "language": "python",
   "name": "python3"
  },
  "language_info": {
   "codemirror_mode": {
    "name": "ipython",
    "version": 3
   },
   "file_extension": ".py",
   "mimetype": "text/x-python",
   "name": "python",
   "nbconvert_exporter": "python",
   "pygments_lexer": "ipython3",
   "version": "3.8.8"
  }
 },
 "nbformat": 4,
 "nbformat_minor": 4
}
